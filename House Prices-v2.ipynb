{
 "cells": [
  {
   "cell_type": "markdown",
   "metadata": {},
   "source": [
    "# Predicting Housing Prices\n",
    "\n",
    "Chi Zhang\n",
    "\n",
    "While working on this project, I studied multiple sources of materials such as:\n",
    "\n",
    "1, Hands-On Machine Learning with Scikit-Learn, Keras and TensorFlow, 2nd Edition\n",
    "\n",
    "2, Stacked Regressions to Predict House Prices by Serigne\n",
    "https://www.kaggle.com/serigne/stacked-regressions-top-4-on-leaderboard"
   ]
  },
  {
   "cell_type": "markdown",
   "metadata": {},
   "source": [
    "### Background\n",
    "\n",
    "The task is to build machine learning modesl to predict house sale prices in Ames, Iowa. Home sellers can then use it as a benchmark tool to better price their houses, and home buyers can also get a better understadning on what factors to consider when looking at house prices."
   ]
  },
  {
   "cell_type": "markdown",
   "metadata": {},
   "source": [
    "### Framing the problem\n",
    "\n",
    "It's a typical supervised learning task and we are given labled training examples. Since we are predicting a value using the variables provided, this is then a multiple regression problem. There is no continuous flow of data coming into the system, and the data is small enough to fit in memory, so plain batch learning should do it."
   ]
  },
  {
   "cell_type": "markdown",
   "metadata": {},
   "source": [
    "### Perfromance Measure\n",
    "Here I will use RMSE to measure the performance of this regression task, and it will put more weights on large errors compared to MAE (Mean Absolute Erros)."
   ]
  },
  {
   "cell_type": "markdown",
   "metadata": {},
   "source": [
    "### Load the Data"
   ]
  },
  {
   "cell_type": "code",
   "execution_count": 2,
   "metadata": {},
   "outputs": [],
   "source": [
    "import pandas as pd\n",
    "import numpy as np\n",
    "import matplotlib.pyplot as plt\n",
    "%matplotlib inline\n",
    "import seaborn as sns\n",
    "from sklearn.model_selection import StratifiedShuffleSplit, cross_val_score, RandomizedSearchCV, GridSearchCV, \\\n",
    "train_test_split, KFold\n",
    "from sklearn.base import BaseEstimator, TransformerMixin, RegressorMixin, clone\n",
    "from sklearn.impute import SimpleImputer\n",
    "from sklearn.pipeline import Pipeline\n",
    "from sklearn.preprocessing import StandardScaler,OrdinalEncoder, OneHotEncoder\n",
    "from sklearn.compose import ColumnTransformer\n",
    "from sklearn.linear_model import LinearRegression, Lasso, Ridge\n",
    "from sklearn.tree import DecisionTreeRegressor\n",
    "from sklearn.ensemble import RandomForestRegressor\n",
    "from sklearn.metrics import mean_squared_error\n",
    "from scipy import stats"
   ]
  },
  {
   "cell_type": "code",
   "execution_count": 3,
   "metadata": {},
   "outputs": [],
   "source": [
    "data = pd.read_csv('train.csv')"
   ]
  },
  {
   "cell_type": "code",
   "execution_count": 4,
   "metadata": {},
   "outputs": [
    {
     "data": {
      "text/html": [
       "<div>\n",
       "<style scoped>\n",
       "    .dataframe tbody tr th:only-of-type {\n",
       "        vertical-align: middle;\n",
       "    }\n",
       "\n",
       "    .dataframe tbody tr th {\n",
       "        vertical-align: top;\n",
       "    }\n",
       "\n",
       "    .dataframe thead th {\n",
       "        text-align: right;\n",
       "    }\n",
       "</style>\n",
       "<table border=\"1\" class=\"dataframe\">\n",
       "  <thead>\n",
       "    <tr style=\"text-align: right;\">\n",
       "      <th></th>\n",
       "      <th>Id</th>\n",
       "      <th>MSSubClass</th>\n",
       "      <th>MSZoning</th>\n",
       "      <th>LotFrontage</th>\n",
       "      <th>LotArea</th>\n",
       "      <th>Street</th>\n",
       "      <th>Alley</th>\n",
       "      <th>LotShape</th>\n",
       "      <th>LandContour</th>\n",
       "      <th>Utilities</th>\n",
       "      <th>...</th>\n",
       "      <th>PoolArea</th>\n",
       "      <th>PoolQC</th>\n",
       "      <th>Fence</th>\n",
       "      <th>MiscFeature</th>\n",
       "      <th>MiscVal</th>\n",
       "      <th>MoSold</th>\n",
       "      <th>YrSold</th>\n",
       "      <th>SaleType</th>\n",
       "      <th>SaleCondition</th>\n",
       "      <th>SalePrice</th>\n",
       "    </tr>\n",
       "  </thead>\n",
       "  <tbody>\n",
       "    <tr>\n",
       "      <th>0</th>\n",
       "      <td>1</td>\n",
       "      <td>60</td>\n",
       "      <td>RL</td>\n",
       "      <td>65.0</td>\n",
       "      <td>8450</td>\n",
       "      <td>Pave</td>\n",
       "      <td>NaN</td>\n",
       "      <td>Reg</td>\n",
       "      <td>Lvl</td>\n",
       "      <td>AllPub</td>\n",
       "      <td>...</td>\n",
       "      <td>0</td>\n",
       "      <td>NaN</td>\n",
       "      <td>NaN</td>\n",
       "      <td>NaN</td>\n",
       "      <td>0</td>\n",
       "      <td>2</td>\n",
       "      <td>2008</td>\n",
       "      <td>WD</td>\n",
       "      <td>Normal</td>\n",
       "      <td>208500</td>\n",
       "    </tr>\n",
       "    <tr>\n",
       "      <th>1</th>\n",
       "      <td>2</td>\n",
       "      <td>20</td>\n",
       "      <td>RL</td>\n",
       "      <td>80.0</td>\n",
       "      <td>9600</td>\n",
       "      <td>Pave</td>\n",
       "      <td>NaN</td>\n",
       "      <td>Reg</td>\n",
       "      <td>Lvl</td>\n",
       "      <td>AllPub</td>\n",
       "      <td>...</td>\n",
       "      <td>0</td>\n",
       "      <td>NaN</td>\n",
       "      <td>NaN</td>\n",
       "      <td>NaN</td>\n",
       "      <td>0</td>\n",
       "      <td>5</td>\n",
       "      <td>2007</td>\n",
       "      <td>WD</td>\n",
       "      <td>Normal</td>\n",
       "      <td>181500</td>\n",
       "    </tr>\n",
       "    <tr>\n",
       "      <th>2</th>\n",
       "      <td>3</td>\n",
       "      <td>60</td>\n",
       "      <td>RL</td>\n",
       "      <td>68.0</td>\n",
       "      <td>11250</td>\n",
       "      <td>Pave</td>\n",
       "      <td>NaN</td>\n",
       "      <td>IR1</td>\n",
       "      <td>Lvl</td>\n",
       "      <td>AllPub</td>\n",
       "      <td>...</td>\n",
       "      <td>0</td>\n",
       "      <td>NaN</td>\n",
       "      <td>NaN</td>\n",
       "      <td>NaN</td>\n",
       "      <td>0</td>\n",
       "      <td>9</td>\n",
       "      <td>2008</td>\n",
       "      <td>WD</td>\n",
       "      <td>Normal</td>\n",
       "      <td>223500</td>\n",
       "    </tr>\n",
       "    <tr>\n",
       "      <th>3</th>\n",
       "      <td>4</td>\n",
       "      <td>70</td>\n",
       "      <td>RL</td>\n",
       "      <td>60.0</td>\n",
       "      <td>9550</td>\n",
       "      <td>Pave</td>\n",
       "      <td>NaN</td>\n",
       "      <td>IR1</td>\n",
       "      <td>Lvl</td>\n",
       "      <td>AllPub</td>\n",
       "      <td>...</td>\n",
       "      <td>0</td>\n",
       "      <td>NaN</td>\n",
       "      <td>NaN</td>\n",
       "      <td>NaN</td>\n",
       "      <td>0</td>\n",
       "      <td>2</td>\n",
       "      <td>2006</td>\n",
       "      <td>WD</td>\n",
       "      <td>Abnorml</td>\n",
       "      <td>140000</td>\n",
       "    </tr>\n",
       "    <tr>\n",
       "      <th>4</th>\n",
       "      <td>5</td>\n",
       "      <td>60</td>\n",
       "      <td>RL</td>\n",
       "      <td>84.0</td>\n",
       "      <td>14260</td>\n",
       "      <td>Pave</td>\n",
       "      <td>NaN</td>\n",
       "      <td>IR1</td>\n",
       "      <td>Lvl</td>\n",
       "      <td>AllPub</td>\n",
       "      <td>...</td>\n",
       "      <td>0</td>\n",
       "      <td>NaN</td>\n",
       "      <td>NaN</td>\n",
       "      <td>NaN</td>\n",
       "      <td>0</td>\n",
       "      <td>12</td>\n",
       "      <td>2008</td>\n",
       "      <td>WD</td>\n",
       "      <td>Normal</td>\n",
       "      <td>250000</td>\n",
       "    </tr>\n",
       "  </tbody>\n",
       "</table>\n",
       "<p>5 rows × 81 columns</p>\n",
       "</div>"
      ],
      "text/plain": [
       "   Id  MSSubClass MSZoning  LotFrontage  LotArea Street Alley LotShape  \\\n",
       "0   1          60       RL         65.0     8450   Pave   NaN      Reg   \n",
       "1   2          20       RL         80.0     9600   Pave   NaN      Reg   \n",
       "2   3          60       RL         68.0    11250   Pave   NaN      IR1   \n",
       "3   4          70       RL         60.0     9550   Pave   NaN      IR1   \n",
       "4   5          60       RL         84.0    14260   Pave   NaN      IR1   \n",
       "\n",
       "  LandContour Utilities  ... PoolArea PoolQC Fence MiscFeature MiscVal MoSold  \\\n",
       "0         Lvl    AllPub  ...        0    NaN   NaN         NaN       0      2   \n",
       "1         Lvl    AllPub  ...        0    NaN   NaN         NaN       0      5   \n",
       "2         Lvl    AllPub  ...        0    NaN   NaN         NaN       0      9   \n",
       "3         Lvl    AllPub  ...        0    NaN   NaN         NaN       0      2   \n",
       "4         Lvl    AllPub  ...        0    NaN   NaN         NaN       0     12   \n",
       "\n",
       "  YrSold  SaleType  SaleCondition  SalePrice  \n",
       "0   2008        WD         Normal     208500  \n",
       "1   2007        WD         Normal     181500  \n",
       "2   2008        WD         Normal     223500  \n",
       "3   2006        WD        Abnorml     140000  \n",
       "4   2008        WD         Normal     250000  \n",
       "\n",
       "[5 rows x 81 columns]"
      ]
     },
     "execution_count": 4,
     "metadata": {},
     "output_type": "execute_result"
    }
   ],
   "source": [
    "data.head()"
   ]
  },
  {
   "cell_type": "code",
   "execution_count": 5,
   "metadata": {
    "scrolled": true
   },
   "outputs": [
    {
     "name": "stdout",
     "output_type": "stream",
     "text": [
      "<class 'pandas.core.frame.DataFrame'>\n",
      "RangeIndex: 1460 entries, 0 to 1459\n",
      "Data columns (total 81 columns):\n",
      "Id               1460 non-null int64\n",
      "MSSubClass       1460 non-null int64\n",
      "MSZoning         1460 non-null object\n",
      "LotFrontage      1201 non-null float64\n",
      "LotArea          1460 non-null int64\n",
      "Street           1460 non-null object\n",
      "Alley            91 non-null object\n",
      "LotShape         1460 non-null object\n",
      "LandContour      1460 non-null object\n",
      "Utilities        1460 non-null object\n",
      "LotConfig        1460 non-null object\n",
      "LandSlope        1460 non-null object\n",
      "Neighborhood     1460 non-null object\n",
      "Condition1       1460 non-null object\n",
      "Condition2       1460 non-null object\n",
      "BldgType         1460 non-null object\n",
      "HouseStyle       1460 non-null object\n",
      "OverallQual      1460 non-null int64\n",
      "OverallCond      1460 non-null int64\n",
      "YearBuilt        1460 non-null int64\n",
      "YearRemodAdd     1460 non-null int64\n",
      "RoofStyle        1460 non-null object\n",
      "RoofMatl         1460 non-null object\n",
      "Exterior1st      1460 non-null object\n",
      "Exterior2nd      1460 non-null object\n",
      "MasVnrType       1452 non-null object\n",
      "MasVnrArea       1452 non-null float64\n",
      "ExterQual        1460 non-null object\n",
      "ExterCond        1460 non-null object\n",
      "Foundation       1460 non-null object\n",
      "BsmtQual         1423 non-null object\n",
      "BsmtCond         1423 non-null object\n",
      "BsmtExposure     1422 non-null object\n",
      "BsmtFinType1     1423 non-null object\n",
      "BsmtFinSF1       1460 non-null int64\n",
      "BsmtFinType2     1422 non-null object\n",
      "BsmtFinSF2       1460 non-null int64\n",
      "BsmtUnfSF        1460 non-null int64\n",
      "TotalBsmtSF      1460 non-null int64\n",
      "Heating          1460 non-null object\n",
      "HeatingQC        1460 non-null object\n",
      "CentralAir       1460 non-null object\n",
      "Electrical       1459 non-null object\n",
      "1stFlrSF         1460 non-null int64\n",
      "2ndFlrSF         1460 non-null int64\n",
      "LowQualFinSF     1460 non-null int64\n",
      "GrLivArea        1460 non-null int64\n",
      "BsmtFullBath     1460 non-null int64\n",
      "BsmtHalfBath     1460 non-null int64\n",
      "FullBath         1460 non-null int64\n",
      "HalfBath         1460 non-null int64\n",
      "BedroomAbvGr     1460 non-null int64\n",
      "KitchenAbvGr     1460 non-null int64\n",
      "KitchenQual      1460 non-null object\n",
      "TotRmsAbvGrd     1460 non-null int64\n",
      "Functional       1460 non-null object\n",
      "Fireplaces       1460 non-null int64\n",
      "FireplaceQu      770 non-null object\n",
      "GarageType       1379 non-null object\n",
      "GarageYrBlt      1379 non-null float64\n",
      "GarageFinish     1379 non-null object\n",
      "GarageCars       1460 non-null int64\n",
      "GarageArea       1460 non-null int64\n",
      "GarageQual       1379 non-null object\n",
      "GarageCond       1379 non-null object\n",
      "PavedDrive       1460 non-null object\n",
      "WoodDeckSF       1460 non-null int64\n",
      "OpenPorchSF      1460 non-null int64\n",
      "EnclosedPorch    1460 non-null int64\n",
      "3SsnPorch        1460 non-null int64\n",
      "ScreenPorch      1460 non-null int64\n",
      "PoolArea         1460 non-null int64\n",
      "PoolQC           7 non-null object\n",
      "Fence            281 non-null object\n",
      "MiscFeature      54 non-null object\n",
      "MiscVal          1460 non-null int64\n",
      "MoSold           1460 non-null int64\n",
      "YrSold           1460 non-null int64\n",
      "SaleType         1460 non-null object\n",
      "SaleCondition    1460 non-null object\n",
      "SalePrice        1460 non-null int64\n",
      "dtypes: float64(3), int64(35), object(43)\n",
      "memory usage: 924.0+ KB\n"
     ]
    }
   ],
   "source": [
    "data.info()"
   ]
  },
  {
   "cell_type": "markdown",
   "metadata": {},
   "source": [
    "### Data Preprocessing "
   ]
  },
  {
   "cell_type": "markdown",
   "metadata": {},
   "source": [
    "#### Convert the Datatypes "
   ]
  },
  {
   "cell_type": "code",
   "execution_count": 7,
   "metadata": {},
   "outputs": [],
   "source": [
    "data.drop('Id', axis = 1, inplace = True) \n",
    "data['MSSubClass'] = data['MSSubClass'].astype(str) \n",
    "\n",
    "# second iteration converting more datatypes\n",
    "data['YrSold'] = data['YrSold'].astype(str)\n",
    "data['MoSold'] = data['MoSold'].astype(str)\n",
    "data['YearBuilt'] = data['YearBuilt'].astype(str)\n",
    "data['YearRemodAdd'] = data['YearRemodAdd'].astype(str)\n",
    "data['GarageYrBlt'] = data['GarageYrBlt'].astype(str)\n",
    "\n",
    "numerics = ['int16', 'int32', 'int64', 'float16', 'float32', 'float64']\n",
    "year_mo_cat_lst = ['YrSold', 'MoSold', 'YearBuilt', 'YearRemodAdd','GarageYrBlt']"
   ]
  },
  {
   "cell_type": "code",
   "execution_count": 6,
   "metadata": {},
   "outputs": [
    {
     "data": {
      "text/plain": [
       "2005.0    65\n",
       "2006.0    59\n",
       "2004.0    53\n",
       "2003.0    50\n",
       "2007.0    49\n",
       "          ..\n",
       "1908.0     1\n",
       "1927.0     1\n",
       "1933.0     1\n",
       "1900.0     1\n",
       "1906.0     1\n",
       "Name: GarageYrBlt, Length: 97, dtype: int64"
      ]
     },
     "execution_count": 6,
     "metadata": {},
     "output_type": "execute_result"
    }
   ],
   "source": [
    "data['GarageYrBlt'].value_counts()"
   ]
  },
  {
   "cell_type": "code",
   "execution_count": 8,
   "metadata": {},
   "outputs": [],
   "source": [
    "data_cat = data.select_dtypes(exclude = numerics)\n",
    "\n",
    "for i in data_cat.columns:\n",
    "    data[i] = data[i].fillna(\"None\")"
   ]
  },
  {
   "cell_type": "code",
   "execution_count": 9,
   "metadata": {},
   "outputs": [
    {
     "data": {
      "text/html": [
       "<div>\n",
       "<style scoped>\n",
       "    .dataframe tbody tr th:only-of-type {\n",
       "        vertical-align: middle;\n",
       "    }\n",
       "\n",
       "    .dataframe tbody tr th {\n",
       "        vertical-align: top;\n",
       "    }\n",
       "\n",
       "    .dataframe thead th {\n",
       "        text-align: right;\n",
       "    }\n",
       "</style>\n",
       "<table border=\"1\" class=\"dataframe\">\n",
       "  <thead>\n",
       "    <tr style=\"text-align: right;\">\n",
       "      <th></th>\n",
       "      <th>LotFrontage</th>\n",
       "      <th>LotArea</th>\n",
       "      <th>OverallQual</th>\n",
       "      <th>OverallCond</th>\n",
       "      <th>MasVnrArea</th>\n",
       "      <th>BsmtFinSF1</th>\n",
       "      <th>BsmtFinSF2</th>\n",
       "      <th>BsmtUnfSF</th>\n",
       "      <th>TotalBsmtSF</th>\n",
       "      <th>1stFlrSF</th>\n",
       "      <th>...</th>\n",
       "      <th>GarageCars</th>\n",
       "      <th>GarageArea</th>\n",
       "      <th>WoodDeckSF</th>\n",
       "      <th>OpenPorchSF</th>\n",
       "      <th>EnclosedPorch</th>\n",
       "      <th>3SsnPorch</th>\n",
       "      <th>ScreenPorch</th>\n",
       "      <th>PoolArea</th>\n",
       "      <th>MiscVal</th>\n",
       "      <th>SalePrice</th>\n",
       "    </tr>\n",
       "  </thead>\n",
       "  <tbody>\n",
       "    <tr>\n",
       "      <th>count</th>\n",
       "      <td>1201.000000</td>\n",
       "      <td>1460.000000</td>\n",
       "      <td>1460.000000</td>\n",
       "      <td>1460.000000</td>\n",
       "      <td>1452.000000</td>\n",
       "      <td>1460.000000</td>\n",
       "      <td>1460.000000</td>\n",
       "      <td>1460.000000</td>\n",
       "      <td>1460.000000</td>\n",
       "      <td>1460.000000</td>\n",
       "      <td>...</td>\n",
       "      <td>1460.000000</td>\n",
       "      <td>1460.000000</td>\n",
       "      <td>1460.000000</td>\n",
       "      <td>1460.000000</td>\n",
       "      <td>1460.000000</td>\n",
       "      <td>1460.000000</td>\n",
       "      <td>1460.000000</td>\n",
       "      <td>1460.000000</td>\n",
       "      <td>1460.000000</td>\n",
       "      <td>1460.000000</td>\n",
       "    </tr>\n",
       "    <tr>\n",
       "      <th>mean</th>\n",
       "      <td>70.049958</td>\n",
       "      <td>10516.828082</td>\n",
       "      <td>6.099315</td>\n",
       "      <td>5.575342</td>\n",
       "      <td>103.685262</td>\n",
       "      <td>443.639726</td>\n",
       "      <td>46.549315</td>\n",
       "      <td>567.240411</td>\n",
       "      <td>1057.429452</td>\n",
       "      <td>1162.626712</td>\n",
       "      <td>...</td>\n",
       "      <td>1.767123</td>\n",
       "      <td>472.980137</td>\n",
       "      <td>94.244521</td>\n",
       "      <td>46.660274</td>\n",
       "      <td>21.954110</td>\n",
       "      <td>3.409589</td>\n",
       "      <td>15.060959</td>\n",
       "      <td>2.758904</td>\n",
       "      <td>43.489041</td>\n",
       "      <td>180921.195890</td>\n",
       "    </tr>\n",
       "    <tr>\n",
       "      <th>std</th>\n",
       "      <td>24.284752</td>\n",
       "      <td>9981.264932</td>\n",
       "      <td>1.382997</td>\n",
       "      <td>1.112799</td>\n",
       "      <td>181.066207</td>\n",
       "      <td>456.098091</td>\n",
       "      <td>161.319273</td>\n",
       "      <td>441.866955</td>\n",
       "      <td>438.705324</td>\n",
       "      <td>386.587738</td>\n",
       "      <td>...</td>\n",
       "      <td>0.747315</td>\n",
       "      <td>213.804841</td>\n",
       "      <td>125.338794</td>\n",
       "      <td>66.256028</td>\n",
       "      <td>61.119149</td>\n",
       "      <td>29.317331</td>\n",
       "      <td>55.757415</td>\n",
       "      <td>40.177307</td>\n",
       "      <td>496.123024</td>\n",
       "      <td>79442.502883</td>\n",
       "    </tr>\n",
       "    <tr>\n",
       "      <th>min</th>\n",
       "      <td>21.000000</td>\n",
       "      <td>1300.000000</td>\n",
       "      <td>1.000000</td>\n",
       "      <td>1.000000</td>\n",
       "      <td>0.000000</td>\n",
       "      <td>0.000000</td>\n",
       "      <td>0.000000</td>\n",
       "      <td>0.000000</td>\n",
       "      <td>0.000000</td>\n",
       "      <td>334.000000</td>\n",
       "      <td>...</td>\n",
       "      <td>0.000000</td>\n",
       "      <td>0.000000</td>\n",
       "      <td>0.000000</td>\n",
       "      <td>0.000000</td>\n",
       "      <td>0.000000</td>\n",
       "      <td>0.000000</td>\n",
       "      <td>0.000000</td>\n",
       "      <td>0.000000</td>\n",
       "      <td>0.000000</td>\n",
       "      <td>34900.000000</td>\n",
       "    </tr>\n",
       "    <tr>\n",
       "      <th>25%</th>\n",
       "      <td>59.000000</td>\n",
       "      <td>7553.500000</td>\n",
       "      <td>5.000000</td>\n",
       "      <td>5.000000</td>\n",
       "      <td>0.000000</td>\n",
       "      <td>0.000000</td>\n",
       "      <td>0.000000</td>\n",
       "      <td>223.000000</td>\n",
       "      <td>795.750000</td>\n",
       "      <td>882.000000</td>\n",
       "      <td>...</td>\n",
       "      <td>1.000000</td>\n",
       "      <td>334.500000</td>\n",
       "      <td>0.000000</td>\n",
       "      <td>0.000000</td>\n",
       "      <td>0.000000</td>\n",
       "      <td>0.000000</td>\n",
       "      <td>0.000000</td>\n",
       "      <td>0.000000</td>\n",
       "      <td>0.000000</td>\n",
       "      <td>129975.000000</td>\n",
       "    </tr>\n",
       "    <tr>\n",
       "      <th>50%</th>\n",
       "      <td>69.000000</td>\n",
       "      <td>9478.500000</td>\n",
       "      <td>6.000000</td>\n",
       "      <td>5.000000</td>\n",
       "      <td>0.000000</td>\n",
       "      <td>383.500000</td>\n",
       "      <td>0.000000</td>\n",
       "      <td>477.500000</td>\n",
       "      <td>991.500000</td>\n",
       "      <td>1087.000000</td>\n",
       "      <td>...</td>\n",
       "      <td>2.000000</td>\n",
       "      <td>480.000000</td>\n",
       "      <td>0.000000</td>\n",
       "      <td>25.000000</td>\n",
       "      <td>0.000000</td>\n",
       "      <td>0.000000</td>\n",
       "      <td>0.000000</td>\n",
       "      <td>0.000000</td>\n",
       "      <td>0.000000</td>\n",
       "      <td>163000.000000</td>\n",
       "    </tr>\n",
       "    <tr>\n",
       "      <th>75%</th>\n",
       "      <td>80.000000</td>\n",
       "      <td>11601.500000</td>\n",
       "      <td>7.000000</td>\n",
       "      <td>6.000000</td>\n",
       "      <td>166.000000</td>\n",
       "      <td>712.250000</td>\n",
       "      <td>0.000000</td>\n",
       "      <td>808.000000</td>\n",
       "      <td>1298.250000</td>\n",
       "      <td>1391.250000</td>\n",
       "      <td>...</td>\n",
       "      <td>2.000000</td>\n",
       "      <td>576.000000</td>\n",
       "      <td>168.000000</td>\n",
       "      <td>68.000000</td>\n",
       "      <td>0.000000</td>\n",
       "      <td>0.000000</td>\n",
       "      <td>0.000000</td>\n",
       "      <td>0.000000</td>\n",
       "      <td>0.000000</td>\n",
       "      <td>214000.000000</td>\n",
       "    </tr>\n",
       "    <tr>\n",
       "      <th>max</th>\n",
       "      <td>313.000000</td>\n",
       "      <td>215245.000000</td>\n",
       "      <td>10.000000</td>\n",
       "      <td>9.000000</td>\n",
       "      <td>1600.000000</td>\n",
       "      <td>5644.000000</td>\n",
       "      <td>1474.000000</td>\n",
       "      <td>2336.000000</td>\n",
       "      <td>6110.000000</td>\n",
       "      <td>4692.000000</td>\n",
       "      <td>...</td>\n",
       "      <td>4.000000</td>\n",
       "      <td>1418.000000</td>\n",
       "      <td>857.000000</td>\n",
       "      <td>547.000000</td>\n",
       "      <td>552.000000</td>\n",
       "      <td>508.000000</td>\n",
       "      <td>480.000000</td>\n",
       "      <td>738.000000</td>\n",
       "      <td>15500.000000</td>\n",
       "      <td>755000.000000</td>\n",
       "    </tr>\n",
       "  </tbody>\n",
       "</table>\n",
       "<p>8 rows × 31 columns</p>\n",
       "</div>"
      ],
      "text/plain": [
       "       LotFrontage        LotArea  OverallQual  OverallCond   MasVnrArea  \\\n",
       "count  1201.000000    1460.000000  1460.000000  1460.000000  1452.000000   \n",
       "mean     70.049958   10516.828082     6.099315     5.575342   103.685262   \n",
       "std      24.284752    9981.264932     1.382997     1.112799   181.066207   \n",
       "min      21.000000    1300.000000     1.000000     1.000000     0.000000   \n",
       "25%      59.000000    7553.500000     5.000000     5.000000     0.000000   \n",
       "50%      69.000000    9478.500000     6.000000     5.000000     0.000000   \n",
       "75%      80.000000   11601.500000     7.000000     6.000000   166.000000   \n",
       "max     313.000000  215245.000000    10.000000     9.000000  1600.000000   \n",
       "\n",
       "        BsmtFinSF1   BsmtFinSF2    BsmtUnfSF  TotalBsmtSF     1stFlrSF  ...  \\\n",
       "count  1460.000000  1460.000000  1460.000000  1460.000000  1460.000000  ...   \n",
       "mean    443.639726    46.549315   567.240411  1057.429452  1162.626712  ...   \n",
       "std     456.098091   161.319273   441.866955   438.705324   386.587738  ...   \n",
       "min       0.000000     0.000000     0.000000     0.000000   334.000000  ...   \n",
       "25%       0.000000     0.000000   223.000000   795.750000   882.000000  ...   \n",
       "50%     383.500000     0.000000   477.500000   991.500000  1087.000000  ...   \n",
       "75%     712.250000     0.000000   808.000000  1298.250000  1391.250000  ...   \n",
       "max    5644.000000  1474.000000  2336.000000  6110.000000  4692.000000  ...   \n",
       "\n",
       "        GarageCars   GarageArea   WoodDeckSF  OpenPorchSF  EnclosedPorch  \\\n",
       "count  1460.000000  1460.000000  1460.000000  1460.000000    1460.000000   \n",
       "mean      1.767123   472.980137    94.244521    46.660274      21.954110   \n",
       "std       0.747315   213.804841   125.338794    66.256028      61.119149   \n",
       "min       0.000000     0.000000     0.000000     0.000000       0.000000   \n",
       "25%       1.000000   334.500000     0.000000     0.000000       0.000000   \n",
       "50%       2.000000   480.000000     0.000000    25.000000       0.000000   \n",
       "75%       2.000000   576.000000   168.000000    68.000000       0.000000   \n",
       "max       4.000000  1418.000000   857.000000   547.000000     552.000000   \n",
       "\n",
       "         3SsnPorch  ScreenPorch     PoolArea       MiscVal      SalePrice  \n",
       "count  1460.000000  1460.000000  1460.000000   1460.000000    1460.000000  \n",
       "mean      3.409589    15.060959     2.758904     43.489041  180921.195890  \n",
       "std      29.317331    55.757415    40.177307    496.123024   79442.502883  \n",
       "min       0.000000     0.000000     0.000000      0.000000   34900.000000  \n",
       "25%       0.000000     0.000000     0.000000      0.000000  129975.000000  \n",
       "50%       0.000000     0.000000     0.000000      0.000000  163000.000000  \n",
       "75%       0.000000     0.000000     0.000000      0.000000  214000.000000  \n",
       "max     508.000000   480.000000   738.000000  15500.000000  755000.000000  \n",
       "\n",
       "[8 rows x 31 columns]"
      ]
     },
     "execution_count": 9,
     "metadata": {},
     "output_type": "execute_result"
    }
   ],
   "source": [
    "data.describe()"
   ]
  },
  {
   "cell_type": "code",
   "execution_count": 10,
   "metadata": {},
   "outputs": [
    {
     "data": {
      "image/png": "[encoded data removed]",
      "text/plain": [
       "<Figure size 432x288 with 1 Axes>"
      ]
     },
     "metadata": {},
     "output_type": "display_data"
    }
   ],
   "source": [
    "# Assuming living area square feet is an important factor determing the sale price\n",
    "\n",
    "sns.set_style('darkgrid')\n",
    "plt.plot(data['GrLivArea'], data['SalePrice'], 'o')\n",
    "plt.xlabel('GrLivArea')\n",
    "plt.ylabel('SalePrice');"
   ]
  },
  {
   "cell_type": "markdown",
   "metadata": {},
   "source": [
    "Form the scatter plot, we see living area is positively correlated with sale prices. There are two outliers with large livgin areas and low sales price, and it's safe to delete those two records. "
   ]
  },
  {
   "cell_type": "code",
   "execution_count": 11,
   "metadata": {},
   "outputs": [],
   "source": [
    "# deleting outliers\n",
    "outliers = data[(data['GrLivArea'] > 4000) & (data['SalePrice'] < 200000)]\n",
    "data = data.drop(outliers.index, axis = 0)\n",
    "data.reset_index(inplace = True)"
   ]
  },
  {
   "cell_type": "code",
   "execution_count": 12,
   "metadata": {
    "scrolled": true
   },
   "outputs": [
    {
     "name": "stdout",
     "output_type": "stream",
     "text": [
      "<class 'pandas.core.frame.DataFrame'>\n",
      "RangeIndex: 1458 entries, 0 to 1457\n",
      "Data columns (total 81 columns):\n",
      "index            1458 non-null int64\n",
      "MSSubClass       1458 non-null object\n",
      "MSZoning         1458 non-null object\n",
      "LotFrontage      1199 non-null float64\n",
      "LotArea          1458 non-null int64\n",
      "Street           1458 non-null object\n",
      "Alley            1458 non-null object\n",
      "LotShape         1458 non-null object\n",
      "LandContour      1458 non-null object\n",
      "Utilities        1458 non-null object\n",
      "LotConfig        1458 non-null object\n",
      "LandSlope        1458 non-null object\n",
      "Neighborhood     1458 non-null object\n",
      "Condition1       1458 non-null object\n",
      "Condition2       1458 non-null object\n",
      "BldgType         1458 non-null object\n",
      "HouseStyle       1458 non-null object\n",
      "OverallQual      1458 non-null int64\n",
      "OverallCond      1458 non-null int64\n",
      "YearBuilt        1458 non-null object\n",
      "YearRemodAdd     1458 non-null object\n",
      "RoofStyle        1458 non-null object\n",
      "RoofMatl         1458 non-null object\n",
      "Exterior1st      1458 non-null object\n",
      "Exterior2nd      1458 non-null object\n",
      "MasVnrType       1458 non-null object\n",
      "MasVnrArea       1450 non-null float64\n",
      "ExterQual        1458 non-null object\n",
      "ExterCond        1458 non-null object\n",
      "Foundation       1458 non-null object\n",
      "BsmtQual         1458 non-null object\n",
      "BsmtCond         1458 non-null object\n",
      "BsmtExposure     1458 non-null object\n",
      "BsmtFinType1     1458 non-null object\n",
      "BsmtFinSF1       1458 non-null int64\n",
      "BsmtFinType2     1458 non-null object\n",
      "BsmtFinSF2       1458 non-null int64\n",
      "BsmtUnfSF        1458 non-null int64\n",
      "TotalBsmtSF      1458 non-null int64\n",
      "Heating          1458 non-null object\n",
      "HeatingQC        1458 non-null object\n",
      "CentralAir       1458 non-null object\n",
      "Electrical       1458 non-null object\n",
      "1stFlrSF         1458 non-null int64\n",
      "2ndFlrSF         1458 non-null int64\n",
      "LowQualFinSF     1458 non-null int64\n",
      "GrLivArea        1458 non-null int64\n",
      "BsmtFullBath     1458 non-null int64\n",
      "BsmtHalfBath     1458 non-null int64\n",
      "FullBath         1458 non-null int64\n",
      "HalfBath         1458 non-null int64\n",
      "BedroomAbvGr     1458 non-null int64\n",
      "KitchenAbvGr     1458 non-null int64\n",
      "KitchenQual      1458 non-null object\n",
      "TotRmsAbvGrd     1458 non-null int64\n",
      "Functional       1458 non-null object\n",
      "Fireplaces       1458 non-null int64\n",
      "FireplaceQu      1458 non-null object\n",
      "GarageType       1458 non-null object\n",
      "GarageYrBlt      1458 non-null object\n",
      "GarageFinish     1458 non-null object\n",
      "GarageCars       1458 non-null int64\n",
      "GarageArea       1458 non-null int64\n",
      "GarageQual       1458 non-null object\n",
      "GarageCond       1458 non-null object\n",
      "PavedDrive       1458 non-null object\n",
      "WoodDeckSF       1458 non-null int64\n",
      "OpenPorchSF      1458 non-null int64\n",
      "EnclosedPorch    1458 non-null int64\n",
      "3SsnPorch        1458 non-null int64\n",
      "ScreenPorch      1458 non-null int64\n",
      "PoolArea         1458 non-null int64\n",
      "PoolQC           1458 non-null object\n",
      "Fence            1458 non-null object\n",
      "MiscFeature      1458 non-null object\n",
      "MiscVal          1458 non-null int64\n",
      "MoSold           1458 non-null object\n",
      "YrSold           1458 non-null object\n",
      "SaleType         1458 non-null object\n",
      "SaleCondition    1458 non-null object\n",
      "SalePrice        1458 non-null int64\n",
      "dtypes: float64(2), int64(30), object(49)\n",
      "memory usage: 922.8+ KB\n"
     ]
    }
   ],
   "source": [
    "data.info()"
   ]
  },
  {
   "cell_type": "markdown",
   "metadata": {},
   "source": [
    "Now we will study the target variable: sale price"
   ]
  },
  {
   "cell_type": "code",
   "execution_count": 13,
   "metadata": {},
   "outputs": [
    {
     "data": {
      "image/png": "[encoded data removed]",
      "text/plain": [
       "<Figure size 720x576 with 1 Axes>"
      ]
     },
     "metadata": {},
     "output_type": "display_data"
    }
   ],
   "source": [
    "# The distribution of the target: sale price\n",
    "data['SalePrice'].hist(bins=50, figsize=(10,8))\n",
    "plt.show()"
   ]
  },
  {
   "cell_type": "markdown",
   "metadata": {},
   "source": [
    "From the histogram, we see that sales price is rightly skewed, and we will need to transform it to fit better for linear models"
   ]
  },
  {
   "cell_type": "code",
   "execution_count": 14,
   "metadata": {},
   "outputs": [],
   "source": [
    "data['SalePrice'] = np.log(data['SalePrice'])  # 2nd interation "
   ]
  },
  {
   "cell_type": "code",
   "execution_count": 15,
   "metadata": {},
   "outputs": [
    {
     "data": {
      "image/png": "[encoded data removed]",
      "text/plain": [
       "<Figure size 432x288 with 1 Axes>"
      ]
     },
     "metadata": {},
     "output_type": "display_data"
    }
   ],
   "source": [
    "#Check the new distribution \n",
    "sns.distplot(data['SalePrice']);"
   ]
  },
  {
   "cell_type": "markdown",
   "metadata": {},
   "source": [
    "Now the our target variable is normally ditributed. "
   ]
  },
  {
   "cell_type": "markdown",
   "metadata": {},
   "source": [
    "### Create a Test Set\n",
    "Here we will use stratified sampling to create a test set to avoid sampling bias. Knowing that the type of dwelling plays an import role in determing the price, we split the test set based on the distribution of MSSubclass. "
   ]
  },
  {
   "cell_type": "code",
   "execution_count": 16,
   "metadata": {},
   "outputs": [],
   "source": [
    "split = StratifiedShuffleSplit(n_splits=1, test_size=0.2, random_state=42)\n",
    "for train_index, test_index in split.split(data, data[\"MSSubClass\"]):\n",
    "    strat_train_set = data.loc[train_index]\n",
    "    strat_test_set = data.loc[test_index]"
   ]
  },
  {
   "cell_type": "code",
   "execution_count": 17,
   "metadata": {},
   "outputs": [
    {
     "data": {
      "image/png": "[encoded data removed]",
      "text/plain": [
       "<Figure size 432x288 with 1 Axes>"
      ]
     },
     "metadata": {},
     "output_type": "display_data"
    }
   ],
   "source": [
    "# check the ditribution:\n",
    "#strat_train_set['MSSubClass'].value_counts()/len(strat_train_set)\n",
    "sns.countplot(strat_train_set['MSSubClass'], order = strat_train_set['MSSubClass'].value_counts().index);"
   ]
  },
  {
   "cell_type": "code",
   "execution_count": 18,
   "metadata": {},
   "outputs": [
    {
     "data": {
      "image/png": "[encoded data removed]",
      "text/plain": [
       "<Figure size 432x288 with 1 Axes>"
      ]
     },
     "metadata": {},
     "output_type": "display_data"
    }
   ],
   "source": [
    "#strat_test_set['MSSubClass'].value_counts()/len(strat_test_set)\n",
    "sns.countplot(strat_test_set['MSSubClass'], order = strat_train_set['MSSubClass'].value_counts().index);"
   ]
  },
  {
   "cell_type": "markdown",
   "metadata": {},
   "source": [
    "Fromt the two barplots, test and training sets follow a similar distribution in terms of MSSubClass "
   ]
  },
  {
   "cell_type": "markdown",
   "metadata": {},
   "source": [
    "### Data Preperation for ML"
   ]
  },
  {
   "cell_type": "code",
   "execution_count": 19,
   "metadata": {},
   "outputs": [],
   "source": [
    "housing = strat_train_set.drop(\"SalePrice\", axis=1)\n",
    "housing_labels = strat_train_set[\"SalePrice\"].copy().reset_index(drop = True)"
   ]
  },
  {
   "cell_type": "code",
   "execution_count": 20,
   "metadata": {
    "scrolled": true
   },
   "outputs": [
    {
     "data": {
      "text/plain": [
       "LotFrontage    18.267581\n",
       "MasVnrArea      0.600343\n",
       "dtype: float64"
      ]
     },
     "execution_count": 20,
     "metadata": {},
     "output_type": "execute_result"
    }
   ],
   "source": [
    "# Checking the missing values \n",
    "perc_missing = (housing.isnull().sum()/housing.shape[0])*100\n",
    "perc_missing.drop(perc_missing[perc_missing == 0].index).sort_values(ascending = False)\n",
    "# There are two variables which have missing values needed to be imputed "
   ]
  },
  {
   "cell_type": "code",
   "execution_count": 21,
   "metadata": {},
   "outputs": [
    {
     "data": {
      "text/html": [
       "<div>\n",
       "<style scoped>\n",
       "    .dataframe tbody tr th:only-of-type {\n",
       "        vertical-align: middle;\n",
       "    }\n",
       "\n",
       "    .dataframe tbody tr th {\n",
       "        vertical-align: top;\n",
       "    }\n",
       "\n",
       "    .dataframe thead th {\n",
       "        text-align: right;\n",
       "    }\n",
       "</style>\n",
       "<table border=\"1\" class=\"dataframe\">\n",
       "  <thead>\n",
       "    <tr style=\"text-align: right;\">\n",
       "      <th></th>\n",
       "      <th>index</th>\n",
       "      <th>LotFrontage</th>\n",
       "      <th>LotArea</th>\n",
       "      <th>OverallQual</th>\n",
       "      <th>OverallCond</th>\n",
       "      <th>MasVnrArea</th>\n",
       "      <th>BsmtFinSF1</th>\n",
       "      <th>BsmtFinSF2</th>\n",
       "      <th>BsmtUnfSF</th>\n",
       "      <th>TotalBsmtSF</th>\n",
       "      <th>...</th>\n",
       "      <th>Fireplaces</th>\n",
       "      <th>GarageCars</th>\n",
       "      <th>GarageArea</th>\n",
       "      <th>WoodDeckSF</th>\n",
       "      <th>OpenPorchSF</th>\n",
       "      <th>EnclosedPorch</th>\n",
       "      <th>3SsnPorch</th>\n",
       "      <th>ScreenPorch</th>\n",
       "      <th>PoolArea</th>\n",
       "      <th>MiscVal</th>\n",
       "    </tr>\n",
       "  </thead>\n",
       "  <tbody>\n",
       "    <tr>\n",
       "      <th>1144</th>\n",
       "      <td>1145</td>\n",
       "      <td>52.0</td>\n",
       "      <td>6240</td>\n",
       "      <td>5</td>\n",
       "      <td>6</td>\n",
       "      <td>0.0</td>\n",
       "      <td>0</td>\n",
       "      <td>0</td>\n",
       "      <td>1042</td>\n",
       "      <td>1042</td>\n",
       "      <td>...</td>\n",
       "      <td>1</td>\n",
       "      <td>1</td>\n",
       "      <td>225</td>\n",
       "      <td>0</td>\n",
       "      <td>0</td>\n",
       "      <td>0</td>\n",
       "      <td>0</td>\n",
       "      <td>0</td>\n",
       "      <td>0</td>\n",
       "      <td>0</td>\n",
       "    </tr>\n",
       "    <tr>\n",
       "      <th>1297</th>\n",
       "      <td>1299</td>\n",
       "      <td>75.0</td>\n",
       "      <td>7500</td>\n",
       "      <td>5</td>\n",
       "      <td>7</td>\n",
       "      <td>0.0</td>\n",
       "      <td>340</td>\n",
       "      <td>906</td>\n",
       "      <td>0</td>\n",
       "      <td>1246</td>\n",
       "      <td>...</td>\n",
       "      <td>0</td>\n",
       "      <td>1</td>\n",
       "      <td>305</td>\n",
       "      <td>218</td>\n",
       "      <td>0</td>\n",
       "      <td>0</td>\n",
       "      <td>0</td>\n",
       "      <td>0</td>\n",
       "      <td>0</td>\n",
       "      <td>0</td>\n",
       "    </tr>\n",
       "    <tr>\n",
       "      <th>426</th>\n",
       "      <td>426</td>\n",
       "      <td>NaN</td>\n",
       "      <td>12800</td>\n",
       "      <td>7</td>\n",
       "      <td>5</td>\n",
       "      <td>145.0</td>\n",
       "      <td>1518</td>\n",
       "      <td>0</td>\n",
       "      <td>0</td>\n",
       "      <td>1518</td>\n",
       "      <td>...</td>\n",
       "      <td>1</td>\n",
       "      <td>2</td>\n",
       "      <td>569</td>\n",
       "      <td>80</td>\n",
       "      <td>0</td>\n",
       "      <td>0</td>\n",
       "      <td>0</td>\n",
       "      <td>396</td>\n",
       "      <td>0</td>\n",
       "      <td>0</td>\n",
       "    </tr>\n",
       "    <tr>\n",
       "      <th>1448</th>\n",
       "      <td>1450</td>\n",
       "      <td>60.0</td>\n",
       "      <td>9000</td>\n",
       "      <td>5</td>\n",
       "      <td>5</td>\n",
       "      <td>0.0</td>\n",
       "      <td>0</td>\n",
       "      <td>0</td>\n",
       "      <td>896</td>\n",
       "      <td>896</td>\n",
       "      <td>...</td>\n",
       "      <td>0</td>\n",
       "      <td>0</td>\n",
       "      <td>0</td>\n",
       "      <td>32</td>\n",
       "      <td>45</td>\n",
       "      <td>0</td>\n",
       "      <td>0</td>\n",
       "      <td>0</td>\n",
       "      <td>0</td>\n",
       "      <td>0</td>\n",
       "    </tr>\n",
       "    <tr>\n",
       "      <th>504</th>\n",
       "      <td>504</td>\n",
       "      <td>24.0</td>\n",
       "      <td>2308</td>\n",
       "      <td>6</td>\n",
       "      <td>5</td>\n",
       "      <td>0.0</td>\n",
       "      <td>257</td>\n",
       "      <td>495</td>\n",
       "      <td>103</td>\n",
       "      <td>855</td>\n",
       "      <td>...</td>\n",
       "      <td>1</td>\n",
       "      <td>2</td>\n",
       "      <td>440</td>\n",
       "      <td>260</td>\n",
       "      <td>0</td>\n",
       "      <td>0</td>\n",
       "      <td>0</td>\n",
       "      <td>0</td>\n",
       "      <td>0</td>\n",
       "      <td>0</td>\n",
       "    </tr>\n",
       "    <tr>\n",
       "      <th>...</th>\n",
       "      <td>...</td>\n",
       "      <td>...</td>\n",
       "      <td>...</td>\n",
       "      <td>...</td>\n",
       "      <td>...</td>\n",
       "      <td>...</td>\n",
       "      <td>...</td>\n",
       "      <td>...</td>\n",
       "      <td>...</td>\n",
       "      <td>...</td>\n",
       "      <td>...</td>\n",
       "      <td>...</td>\n",
       "      <td>...</td>\n",
       "      <td>...</td>\n",
       "      <td>...</td>\n",
       "      <td>...</td>\n",
       "      <td>...</td>\n",
       "      <td>...</td>\n",
       "      <td>...</td>\n",
       "      <td>...</td>\n",
       "      <td>...</td>\n",
       "    </tr>\n",
       "    <tr>\n",
       "      <th>1267</th>\n",
       "      <td>1268</td>\n",
       "      <td>NaN</td>\n",
       "      <td>14100</td>\n",
       "      <td>8</td>\n",
       "      <td>9</td>\n",
       "      <td>632.0</td>\n",
       "      <td>192</td>\n",
       "      <td>0</td>\n",
       "      <td>536</td>\n",
       "      <td>728</td>\n",
       "      <td>...</td>\n",
       "      <td>2</td>\n",
       "      <td>3</td>\n",
       "      <td>1014</td>\n",
       "      <td>314</td>\n",
       "      <td>12</td>\n",
       "      <td>0</td>\n",
       "      <td>0</td>\n",
       "      <td>0</td>\n",
       "      <td>0</td>\n",
       "      <td>0</td>\n",
       "    </tr>\n",
       "    <tr>\n",
       "      <th>1146</th>\n",
       "      <td>1147</td>\n",
       "      <td>75.0</td>\n",
       "      <td>12000</td>\n",
       "      <td>7</td>\n",
       "      <td>7</td>\n",
       "      <td>0.0</td>\n",
       "      <td>275</td>\n",
       "      <td>0</td>\n",
       "      <td>429</td>\n",
       "      <td>704</td>\n",
       "      <td>...</td>\n",
       "      <td>1</td>\n",
       "      <td>1</td>\n",
       "      <td>234</td>\n",
       "      <td>0</td>\n",
       "      <td>0</td>\n",
       "      <td>0</td>\n",
       "      <td>0</td>\n",
       "      <td>0</td>\n",
       "      <td>0</td>\n",
       "      <td>0</td>\n",
       "    </tr>\n",
       "    <tr>\n",
       "      <th>280</th>\n",
       "      <td>280</td>\n",
       "      <td>82.0</td>\n",
       "      <td>11287</td>\n",
       "      <td>7</td>\n",
       "      <td>6</td>\n",
       "      <td>340.0</td>\n",
       "      <td>421</td>\n",
       "      <td>0</td>\n",
       "      <td>386</td>\n",
       "      <td>807</td>\n",
       "      <td>...</td>\n",
       "      <td>1</td>\n",
       "      <td>2</td>\n",
       "      <td>575</td>\n",
       "      <td>0</td>\n",
       "      <td>84</td>\n",
       "      <td>0</td>\n",
       "      <td>196</td>\n",
       "      <td>0</td>\n",
       "      <td>0</td>\n",
       "      <td>0</td>\n",
       "    </tr>\n",
       "    <tr>\n",
       "      <th>681</th>\n",
       "      <td>682</td>\n",
       "      <td>NaN</td>\n",
       "      <td>2887</td>\n",
       "      <td>6</td>\n",
       "      <td>5</td>\n",
       "      <td>0.0</td>\n",
       "      <td>1003</td>\n",
       "      <td>0</td>\n",
       "      <td>288</td>\n",
       "      <td>1291</td>\n",
       "      <td>...</td>\n",
       "      <td>1</td>\n",
       "      <td>2</td>\n",
       "      <td>431</td>\n",
       "      <td>307</td>\n",
       "      <td>0</td>\n",
       "      <td>0</td>\n",
       "      <td>0</td>\n",
       "      <td>0</td>\n",
       "      <td>0</td>\n",
       "      <td>0</td>\n",
       "    </tr>\n",
       "    <tr>\n",
       "      <th>1160</th>\n",
       "      <td>1161</td>\n",
       "      <td>NaN</td>\n",
       "      <td>14778</td>\n",
       "      <td>6</td>\n",
       "      <td>7</td>\n",
       "      <td>72.0</td>\n",
       "      <td>728</td>\n",
       "      <td>0</td>\n",
       "      <td>568</td>\n",
       "      <td>1296</td>\n",
       "      <td>...</td>\n",
       "      <td>1</td>\n",
       "      <td>2</td>\n",
       "      <td>924</td>\n",
       "      <td>108</td>\n",
       "      <td>0</td>\n",
       "      <td>0</td>\n",
       "      <td>216</td>\n",
       "      <td>0</td>\n",
       "      <td>0</td>\n",
       "      <td>0</td>\n",
       "    </tr>\n",
       "  </tbody>\n",
       "</table>\n",
       "<p>1166 rows × 31 columns</p>\n",
       "</div>"
      ],
      "text/plain": [
       "      index  LotFrontage  LotArea  OverallQual  OverallCond  MasVnrArea  \\\n",
       "1144   1145         52.0     6240            5            6         0.0   \n",
       "1297   1299         75.0     7500            5            7         0.0   \n",
       "426     426          NaN    12800            7            5       145.0   \n",
       "1448   1450         60.0     9000            5            5         0.0   \n",
       "504     504         24.0     2308            6            5         0.0   \n",
       "...     ...          ...      ...          ...          ...         ...   \n",
       "1267   1268          NaN    14100            8            9       632.0   \n",
       "1146   1147         75.0    12000            7            7         0.0   \n",
       "280     280         82.0    11287            7            6       340.0   \n",
       "681     682          NaN     2887            6            5         0.0   \n",
       "1160   1161          NaN    14778            6            7        72.0   \n",
       "\n",
       "      BsmtFinSF1  BsmtFinSF2  BsmtUnfSF  TotalBsmtSF  ...  Fireplaces  \\\n",
       "1144           0           0       1042         1042  ...           1   \n",
       "1297         340         906          0         1246  ...           0   \n",
       "426         1518           0          0         1518  ...           1   \n",
       "1448           0           0        896          896  ...           0   \n",
       "504          257         495        103          855  ...           1   \n",
       "...          ...         ...        ...          ...  ...         ...   \n",
       "1267         192           0        536          728  ...           2   \n",
       "1146         275           0        429          704  ...           1   \n",
       "280          421           0        386          807  ...           1   \n",
       "681         1003           0        288         1291  ...           1   \n",
       "1160         728           0        568         1296  ...           1   \n",
       "\n",
       "      GarageCars  GarageArea  WoodDeckSF  OpenPorchSF  EnclosedPorch  \\\n",
       "1144           1         225           0            0              0   \n",
       "1297           1         305         218            0              0   \n",
       "426            2         569          80            0              0   \n",
       "1448           0           0          32           45              0   \n",
       "504            2         440         260            0              0   \n",
       "...          ...         ...         ...          ...            ...   \n",
       "1267           3        1014         314           12              0   \n",
       "1146           1         234           0            0              0   \n",
       "280            2         575           0           84              0   \n",
       "681            2         431         307            0              0   \n",
       "1160           2         924         108            0              0   \n",
       "\n",
       "      3SsnPorch  ScreenPorch  PoolArea  MiscVal  \n",
       "1144          0            0         0        0  \n",
       "1297          0            0         0        0  \n",
       "426           0          396         0        0  \n",
       "1448          0            0         0        0  \n",
       "504           0            0         0        0  \n",
       "...         ...          ...       ...      ...  \n",
       "1267          0            0         0        0  \n",
       "1146          0            0         0        0  \n",
       "280         196            0         0        0  \n",
       "681           0            0         0        0  \n",
       "1160        216            0         0        0  \n",
       "\n",
       "[1166 rows x 31 columns]"
      ]
     },
     "execution_count": 21,
     "metadata": {},
     "output_type": "execute_result"
    }
   ],
   "source": [
    "# select the numeric variables\n",
    "housing_num = housing.select_dtypes(include=numerics)\n",
    "housing_num"
   ]
  },
  {
   "cell_type": "code",
   "execution_count": 22,
   "metadata": {},
   "outputs": [],
   "source": [
    "# Building a pipeline for feature engineering\n",
    "Bedrooms, firstfloor_sf, total_rooms, above_sf, basement_sf = int(housing_num.columns.get_loc('BedroomAbvGr')), \\\n",
    "                                                int(housing_num.columns.get_loc('1stFlrSF')), \\\n",
    "                                                int(housing_num.columns.get_loc('TotRmsAbvGrd')), \\\n",
    "                                                int(housing_num.columns.get_loc('GrLivArea')),\\\n",
    "                                                int(housing_num.columns.get_loc('TotalBsmtSF'))\n",
    "class EngineeredFeatures(BaseEstimator, TransformerMixin):\n",
    "    def __init__(self, add_features = True):\n",
    "        self.add_features = add_features\n",
    "    def fit(self, X, y=None):\n",
    "        return self  \n",
    "    def transform(self, X):\n",
    "        if self.add_features:\n",
    "            total_area = X[:, above_sf] + X[:,basement_sf] # second iteration new feature\n",
    "            firstfl_per = X[:, firstfloor_sf] / total_area\n",
    "            bedroom_per = X[:, Bedrooms] / X[:, total_rooms]\n",
    "            return np.c_[X, total_area, firstfl_per, bedroom_per]\n",
    "        else:\n",
    "            return X"
   ]
  },
  {
   "cell_type": "code",
   "execution_count": 23,
   "metadata": {},
   "outputs": [],
   "source": [
    "## Create a transformation pipiline for numeric attributes\n",
    "num_pipeline = Pipeline([\n",
    "        ('imputer', SimpleImputer(strategy=\"median\")),\n",
    "        ('feature_engin', EngineeredFeatures()),\n",
    "        ('std_scaler', StandardScaler()),\n",
    "    ])"
   ]
  },
  {
   "cell_type": "code",
   "execution_count": 24,
   "metadata": {},
   "outputs": [
    {
     "data": {
      "text/plain": [
       "Index(['MSSubClass', 'MSZoning', 'Street', 'Alley', 'LotShape', 'LandContour',\n",
       "       'Utilities', 'LotConfig', 'LandSlope', 'Neighborhood', 'Condition1',\n",
       "       'Condition2', 'BldgType', 'HouseStyle', 'RoofStyle', 'RoofMatl',\n",
       "       'Exterior1st', 'Exterior2nd', 'MasVnrType', 'ExterQual', 'ExterCond',\n",
       "       'Foundation', 'BsmtQual', 'BsmtCond', 'BsmtExposure', 'BsmtFinType1',\n",
       "       'BsmtFinType2', 'Heating', 'HeatingQC', 'CentralAir', 'Electrical',\n",
       "       'KitchenQual', 'Functional', 'FireplaceQu', 'GarageType',\n",
       "       'GarageFinish', 'GarageQual', 'GarageCond', 'PavedDrive', 'PoolQC',\n",
       "       'Fence', 'MiscFeature', 'SaleType', 'SaleCondition'],\n",
       "      dtype='object')"
      ]
     },
     "execution_count": 24,
     "metadata": {},
     "output_type": "execute_result"
    }
   ],
   "source": [
    "# Creating a list of categorical varibales exluding the year/month related ones\n",
    "housing_cat = housing.select_dtypes(exclude=numerics)\n",
    "col_names_cat = housing_cat.columns.drop(year_mo_cat_lst)\n",
    "col_names_cat"
   ]
  },
  {
   "cell_type": "code",
   "execution_count": 25,
   "metadata": {
    "scrolled": true
   },
   "outputs": [],
   "source": [
    "# Use ColumnTransformer to combine numerical and categorical, and output prepared dataset\n",
    "\n",
    "num_attribs = list(housing_num.columns)\n",
    "cat_attribs = list(housing_cat)\n",
    "#year_attribs = list(year_mo_cat_lst)\n",
    "\n",
    "full_pipeline = ColumnTransformer([\n",
    "        (\"num\", num_pipeline, num_attribs), # use numerica pipeline built for numerical attributes\n",
    "        (\"cat\", OneHotEncoder(handle_unknown='ignore'), cat_attribs) # one hot encoding for categorical variables\n",
    "       # ('year', OrdinalEncoder(), year_attribs), # ordinal encoding for year month variables \n",
    "    ])\n",
    "\n",
    "housing_prepared = full_pipeline.fit_transform(housing)"
   ]
  },
  {
   "cell_type": "markdown",
   "metadata": {},
   "source": [
    "### Train & Evaluate Models"
   ]
  },
  {
   "cell_type": "code",
   "execution_count": null,
   "metadata": {},
   "outputs": [],
   "source": [
    "predictions = dt.predict(housing_prepared)\n",
    "mse = mean_squared_error(housing_labels, predictions)\n",
    "rmse = np.sqrt(mse)\n",
    "rmse ## overfit"
   ]
  },
  {
   "cell_type": "code",
   "execution_count": 27,
   "metadata": {},
   "outputs": [],
   "source": [
    "def display_scores(scores):\n",
    "    print(\"Mean:\", scores.mean())\n",
    "    print(\"Standard deviation:\", scores.std())"
   ]
  },
  {
   "cell_type": "code",
   "execution_count": 28,
   "metadata": {},
   "outputs": [
    {
     "name": "stdout",
     "output_type": "stream",
     "text": [
      "Mean: 0.1924973221883881\n",
      "Standard deviation: 0.011671521290402349\n"
     ]
    }
   ],
   "source": [
    "# 5 fold CV for linear regression \n",
    "reg = LinearRegression()\n",
    "reg.fit(housing_prepared, housing_labels)\n",
    "scores_LR = cross_val_score(reg, housing_prepared, housing_labels,\n",
    "                         scoring='neg_root_mean_squared_error', cv=5)\n",
    "display_scores(-scores_LR)  "
   ]
  },
  {
   "cell_type": "markdown",
   "metadata": {},
   "source": [
    "We use linear regression as our baseline model, and then we will use different techniques to improve on the score. "
   ]
  },
  {
   "cell_type": "code",
   "execution_count": 29,
   "metadata": {},
   "outputs": [
    {
     "name": "stdout",
     "output_type": "stream",
     "text": [
      "Mean: 0.11696717770020296\n",
      "Standard deviation: 0.010454192820794166\n"
     ]
    }
   ],
   "source": [
    "# 5 fold CV for Lasso regression to avoid overfitting\n",
    "\n",
    "lasso = Lasso(alpha =0.001)\n",
    "scores_Lasso = cross_val_score(lasso, housing_prepared, housing_labels,\n",
    "                         scoring='neg_root_mean_squared_error', cv=5)\n",
    "display_scores(-scores_Lasso)  "
   ]
  },
  {
   "cell_type": "code",
   "execution_count": 30,
   "metadata": {},
   "outputs": [
    {
     "name": "stdout",
     "output_type": "stream",
     "text": [
      "Mean: 0.1666865853681596\n",
      "Standard deviation: 0.01104057742374339\n"
     ]
    }
   ],
   "source": [
    "# 5 fold CV for Ridge regression to avoid overfitting\n",
    "\n",
    "ridge = Ridge(alpha =0.001)\n",
    "scores_Ridge = cross_val_score(ridge, housing_prepared, housing_labels,\n",
    "                         scoring='neg_root_mean_squared_error', cv=5)\n",
    "display_scores(-scores_Ridge)  "
   ]
  },
  {
   "cell_type": "code",
   "execution_count": 31,
   "metadata": {},
   "outputs": [
    {
     "name": "stdout",
     "output_type": "stream",
     "text": [
      "Mean: 0.21040827938559548\n",
      "Standard deviation: 0.012422330326047329\n"
     ]
    }
   ],
   "source": [
    "## Cross Validation\n",
    "dt = DecisionTreeRegressor()\n",
    "dt.fit(housing_prepared, housing_labels)\n",
    "scores_DT = cross_val_score(dt, housing_prepared, housing_labels,\n",
    "                         scoring='neg_root_mean_squared_error', cv=5)\n",
    "display_scores(-scores_DT) # for decision tree model "
   ]
  },
  {
   "cell_type": "code",
   "execution_count": 33,
   "metadata": {},
   "outputs": [
    {
     "name": "stdout",
     "output_type": "stream",
     "text": [
      "Mean: 0.14389494702273092\n",
      "Standard deviation: 0.013682413606328188\n"
     ]
    }
   ],
   "source": [
    "rf = RandomForestRegressor()\n",
    "scores_RF = cross_val_score(rf, housing_prepared, housing_labels,\n",
    "                         scoring='neg_root_mean_squared_error', cv=5, n_jobs = -1)\n",
    "display_scores(-scores_RF) # for random forest model "
   ]
  },
  {
   "cell_type": "markdown",
   "metadata": {},
   "source": [
    "### Fine Tune Models\n",
    "Next we will fine tune the hyperparameters to improve the performance of RF"
   ]
  },
  {
   "cell_type": "code",
   "execution_count": 34,
   "metadata": {},
   "outputs": [],
   "source": [
    "# Random Grid: \n",
    "# number of trees in rf\n",
    "n_estimators = [int(x) for x in np.linspace(start = 100, stop = 1000, num = 5)]\n",
    "# Number of features at every split\n",
    "max_features = [50, 100, 150]\n",
    "# Maximum number of levels in tree\n",
    "max_depth = [int(x) for x in np.linspace(10, 110, num = 5)]\n",
    "# Method of selecting samples for training each tree\n",
    "bootstrap = [True, False]\n",
    "\n",
    "# Create the random grid\n",
    "random_grid = {'n_estimators': n_estimators,\n",
    "               'max_features': max_features,\n",
    "               'max_depth': max_depth,\n",
    "               'bootstrap': bootstrap}"
   ]
  },
  {
   "cell_type": "code",
   "execution_count": 35,
   "metadata": {},
   "outputs": [
    {
     "data": {
      "text/plain": [
       "RandomizedSearchCV(cv=5, error_score=nan,\n",
       "                   estimator=RandomForestRegressor(bootstrap=True,\n",
       "                                                   ccp_alpha=0.0,\n",
       "                                                   criterion='mse',\n",
       "                                                   max_depth=None,\n",
       "                                                   max_features='auto',\n",
       "                                                   max_leaf_nodes=None,\n",
       "                                                   max_samples=None,\n",
       "                                                   min_impurity_decrease=0.0,\n",
       "                                                   min_impurity_split=None,\n",
       "                                                   min_samples_leaf=1,\n",
       "                                                   min_samples_split=2,\n",
       "                                                   min_weight_fraction_leaf=0.0,\n",
       "                                                   n_estimators=100,\n",
       "                                                   n_jobs=None, oob_score=False,\n",
       "                                                   random_state=None, verbose=0,\n",
       "                                                   warm_start=False),\n",
       "                   iid='deprecated', n_iter=10, n_jobs=-1,\n",
       "                   param_distributions={'bootstrap': [True, False],\n",
       "                                        'max_depth': [10, 35, 60, 85, 110],\n",
       "                                        'max_features': [50, 100, 150],\n",
       "                                        'n_estimators': [100, 325, 550, 775,\n",
       "                                                         1000]},\n",
       "                   pre_dispatch='2*n_jobs', random_state=42, refit=True,\n",
       "                   return_train_score=False,\n",
       "                   scoring='neg_root_mean_squared_error', verbose=0)"
      ]
     },
     "execution_count": 35,
     "metadata": {},
     "output_type": "execute_result"
    }
   ],
   "source": [
    "random_search = RandomizedSearchCV(estimator = rf, param_distributions = random_grid, n_iter = 10, \\\n",
    "                               cv = 5, random_state=42, n_jobs = -1, scoring='neg_root_mean_squared_error')\n",
    "random_search.fit(housing_prepared, housing_labels)"
   ]
  },
  {
   "cell_type": "code",
   "execution_count": 36,
   "metadata": {},
   "outputs": [
    {
     "data": {
      "text/plain": [
       "{'n_estimators': 325,\n",
       " 'max_features': 100,\n",
       " 'max_depth': 110,\n",
       " 'bootstrap': False}"
      ]
     },
     "execution_count": 36,
     "metadata": {},
     "output_type": "execute_result"
    }
   ],
   "source": [
    "random_search.best_params_"
   ]
  },
  {
   "cell_type": "code",
   "execution_count": 38,
   "metadata": {},
   "outputs": [
    {
     "name": "stdout",
     "output_type": "stream",
     "text": [
      "Mean: 0.13412098232366626\n",
      "Standard deviation: 0.010762162307689099\n"
     ]
    }
   ],
   "source": [
    "best_rf_rs = random_search.best_estimator_\n",
    "scores_best_rf = cross_val_score(best_rf_rs, housing_prepared, housing_labels,\n",
    "                         scoring='neg_root_mean_squared_error', cv=5, n_jobs = -1)\n",
    "display_scores(-scores_best_rf) "
   ]
  },
  {
   "cell_type": "markdown",
   "metadata": {},
   "source": [
    "#### Grid Search\n",
    "Once we have used random search to narrow down the range of each hyperparameter, we then look at specific combinations using grid search"
   ]
  },
  {
   "cell_type": "code",
   "execution_count": null,
   "metadata": {},
   "outputs": [],
   "source": [
    "# Setting up grid search \n",
    "param_grid = [\n",
    "    {'bootstrap': [False], 'n_estimators': [300, 400, 500], 'max_features': [100, 110], 'max_depth': [110, 120]}\n",
    "  ]\n",
    "\n",
    "grid_search = GridSearchCV(rf, param_grid, cv=5,\n",
    "                           scoring='neg_root_mean_squared_error',\n",
    "                           return_train_score=True,\n",
    "                           n_jobs = -1)\n",
    "\n",
    "grid_search.fit(housing_prepared, housing_labels)"
   ]
  },
  {
   "cell_type": "code",
   "execution_count": null,
   "metadata": {},
   "outputs": [],
   "source": [
    "best_rf_gs = grid_search.best_estimator_\n",
    "scores_best_rf_gs = cross_val_score(best_rf_gs, housing_prepared, housing_labels,\n",
    "                         scoring='neg_root_mean_squared_error', cv=5, n_jobs = -1)\n",
    "display_scores(-scores_best_rf_gs) # for random forest model "
   ]
  },
  {
   "cell_type": "markdown",
   "metadata": {},
   "source": [
    "The updates on hyperparameters via grid search further imporves the performance of the model."
   ]
  },
  {
   "cell_type": "markdown",
   "metadata": {},
   "source": [
    "### Analyze the Results of the Best Model"
   ]
  },
  {
   "cell_type": "code",
   "execution_count": 40,
   "metadata": {},
   "outputs": [],
   "source": [
    "feature_importance = best_rf_rs.feature_importances_"
   ]
  },
  {
   "cell_type": "code",
   "execution_count": 41,
   "metadata": {
    "scrolled": true
   },
   "outputs": [
    {
     "data": {
      "text/plain": [
       "[(0.168770777554783, 'Total_area'),\n",
       " (0.14591535506850295, 'OverallQual'),\n",
       " (0.10606488083019988, 'GrLivArea'),\n",
       " (0.045847343235818544, 'GarageCars'),\n",
       " (0.03820278706688514, 'GarageArea'),\n",
       " (0.033904759563173, 'TotalBsmtSF'),\n",
       " (0.030013931754631767, 'FullBath'),\n",
       " (0.021631514268921175, '1stFlrSF'),\n",
       " (0.01452361646054082, 'LotArea'),\n",
       " (0.012100022742964138, '2ndFlrSF'),\n",
       " (0.011839669178259953, 'Fireplaces'),\n",
       " (0.011804481807304883, 'BsmtFinSF1'),\n",
       " (0.0061351694617904195, 'OpenPorchSF'),\n",
       " (0.006083042960233776, 'LotFrontage'),\n",
       " (0.005923653053538011, 'OverallCond'),\n",
       " (0.005657330808084111, 'BsmtUnfSF'),\n",
       " (0.0050332299979828415, 'TotRmsAbvGrd'),\n",
       " (0.004783938332836879, 'MasVnrArea'),\n",
       " (0.004727293410111344, 'FirstFL_perc'),\n",
       " (0.004662575949956241, '60'),\n",
       " (0.004009967107026139, 'Bedroom_perc'),\n",
       " (0.0033597116709844278, 'index'),\n",
       " (0.0025618839372666745, 'BedroomAbvGr'),\n",
       " (0.0024572101302983273, 'WoodDeckSF'),\n",
       " (0.002239563246711688, 'KitchenAbvGr'),\n",
       " (0.001850581352729182, 'BsmtFullBath'),\n",
       " (0.0017851064838128343, 'HalfBath'),\n",
       " (0.001477276355670466, '30'),\n",
       " (0.0014577527167130577, 'EnclosedPorch'),\n",
       " (0.0006906848601863469, '20'),\n",
       " (0.0005713594778483425, 'BsmtFinSF2'),\n",
       " (0.0005268005762273364, 'ScreenPorch'),\n",
       " (0.00046478956354038424, '50'),\n",
       " (0.00045207108782766324, '70'),\n",
       " (0.00038862465283743224, '160'),\n",
       " (0.0003223802524597601, 'BsmtHalfBath'),\n",
       " (0.00027996153066795864, '80'),\n",
       " (0.0002529817507844606, 'LowQualFinSF'),\n",
       " (0.0002529497820573306, '90'),\n",
       " (0.00019435272891049805, 'MiscVal'),\n",
       " (0.00017872131605853065, '120'),\n",
       " (0.0001475086402104069, '190'),\n",
       " (6.607515511977291e-05, '3SsnPorch'),\n",
       " (4.838192914724455e-05, '75'),\n",
       " (4.611044463245598e-05, '40'),\n",
       " (3.465172529333297e-05, '180'),\n",
       " (2.4745514411683803e-05, '85'),\n",
       " (1.6238547830774196e-05, '45'),\n",
       " (3.7946487467293683e-06, 'PoolArea')]"
      ]
     },
     "execution_count": 41,
     "metadata": {},
     "output_type": "execute_result"
    }
   ],
   "source": [
    "new_features = ['Total_area', 'FirstFL_perc', 'Bedroom_perc']\n",
    "cat_encoder = full_pipeline.named_transformers_[\"cat\"]\n",
    "cat_one_hot_attribs = list(cat_encoder.categories_[0])\n",
    "attributes = num_attribs + new_features + cat_one_hot_attribs\n",
    "sorted(zip(feature_importance, attributes), reverse = True)"
   ]
  },
  {
   "cell_type": "markdown",
   "metadata": {},
   "source": [
    "### Creating stacking ensemble model to imporve performance"
   ]
  },
  {
   "cell_type": "code",
   "execution_count": 42,
   "metadata": {},
   "outputs": [],
   "source": [
    "class StackingModels(BaseEstimator, RegressorMixin, TransformerMixin):\n",
    "    def __init__(self, base_models, meta_model, n_folds=5): # using 5 folds to create hold out set to train a blender\n",
    "        self.base_models = base_models\n",
    "        self.meta_model = meta_model\n",
    "        self.n_folds = n_folds\n",
    "\n",
    "    def fit(self, X, y):\n",
    "        \"\"\"\n",
    "        Take input training featers and lables to first, fit and generate predictions for original models. Second, \n",
    "        fit the blender model with predictions and lables\n",
    "        \"\"\"\n",
    "        self.base_models_ = [list() for x in self.base_models] # creating empty list for each model\n",
    "        self.meta_model_ = clone(self.meta_model) # make a copy for the blender model \n",
    "        kfold = KFold(n_splits=self.n_folds, shuffle=True, random_state = 1) # 5 folds to split the dataset\n",
    "        \n",
    "        out_of_fold_predictions = np.zeros((X.shape[0], len(self.base_models)))# create matrix to store predictions\n",
    "        \n",
    "        for i, model in enumerate(self.base_models):\n",
    "            for train_index, holdout_index in kfold.split(X, y):\n",
    "                instance = clone(model)\n",
    "                self.base_models_[i].append(instance) # append the first instance to the model 1 list\n",
    "                instance.fit(X[train_index], y[train_index])# fit the model with assined training set\n",
    "                y_pred = instance.predict(X[holdout_index])# generate prediction with test set \n",
    "                out_of_fold_predictions[holdout_index, i] = y_pred\n",
    "                \n",
    "        # Now train the blender model using the predictions\n",
    "        self.meta_model_.fit(out_of_fold_predictions, y)\n",
    "        return self\n",
    "   \n",
    "    def predict(self, X):\n",
    "        meta_features = np.column_stack(\n",
    "                                        [np.column_stack([model.predict(X) for model in base_models]).mean(axis=1)\n",
    "                                            for base_models in self.base_models_ ]\n",
    "                                        ) # create features the blender model as mean of each instance of each base model\n",
    "        return self.meta_model_.predict(meta_features)"
   ]
  },
  {
   "cell_type": "code",
   "execution_count": 46,
   "metadata": {},
   "outputs": [
    {
     "data": {
      "text/plain": [
       "0.03613658354269214"
      ]
     },
     "execution_count": 46,
     "metadata": {},
     "output_type": "execute_result"
    }
   ],
   "source": [
    "stacked_averaged_models = StackingModels(base_models = (best_rf_rs, reg, ridge),\n",
    "                                                 meta_model = lasso)\n",
    "stacked_averaged_models.fit(housing_prepared, housing_labels)\n",
    "predictions = stacked_averaged_models.predict(housing_prepared)\n",
    "mse = mean_squared_error(housing_labels, predictions)\n",
    "rmse = np.sqrt(mse)\n",
    "rmse"
   ]
  },
  {
   "cell_type": "markdown",
   "metadata": {},
   "source": [
    "THe stacking model is the best so far, and is decrese the rmse by 80% compared to the baseline model. "
   ]
  },
  {
   "cell_type": "markdown",
   "metadata": {},
   "source": [
    "### Evaluate the Model on the Test Set"
   ]
  },
  {
   "cell_type": "code",
   "execution_count": 47,
   "metadata": {},
   "outputs": [],
   "source": [
    "test_model = stacked_averaged_models\n",
    "# Split test data to atttributes and labels\n",
    "X_test = strat_test_set.drop(\"SalePrice\", axis=1)\n",
    "y_test = strat_test_set[\"SalePrice\"].copy().reset_index(drop =True)\n",
    "\n",
    "# apply the data transformation pipeline on test data \n",
    "X_test_prepared = full_pipeline.transform(X_test)\n",
    "\n",
    "# run final model on the prepared dataset\n",
    "final_predictions = test_model.predict(X_test_prepared)\n",
    "\n",
    "# calculate RMSE on test set\n",
    "final_mse = mean_squared_error(y_test, final_predictions)\n",
    "final_rmse = np.sqrt(final_mse)"
   ]
  },
  {
   "cell_type": "code",
   "execution_count": 48,
   "metadata": {},
   "outputs": [
    {
     "data": {
      "text/plain": [
       "0.12316600634274295"
      ]
     },
     "execution_count": 48,
     "metadata": {},
     "output_type": "execute_result"
    }
   ],
   "source": [
    "final_rmse"
   ]
  },
  {
   "cell_type": "code",
   "execution_count": 49,
   "metadata": {},
   "outputs": [
    {
     "data": {
      "text/plain": [
       "array([0.10319659, 0.14032175])"
      ]
     },
     "execution_count": 49,
     "metadata": {},
     "output_type": "execute_result"
    }
   ],
   "source": [
    "squared_errors = (final_predictions - y_test) ** 2\n",
    "# 95% confidence interval of the mean RMSE\n",
    "np.sqrt(stats.t.interval(0.95, len(squared_errors) - 1, loc = squared_errors.mean(), scale = stats.sem(squared_errors)))"
   ]
  },
  {
   "cell_type": "markdown",
   "metadata": {},
   "source": [
    "### Conclusion\n",
    "\n",
    "This project follows an iterative process, the goal is to create the most accurate model to predict the sale price of a house. \n",
    "I started with fixing datatypes, safely deleting outliers and transforming vairables to better fit for linear models.(EDA)\n",
    "Next I build pipelines to preprocess data automatically including imputing and scaling numeric variables, encoding categorical variables and feature engineering.\n",
    "Once the dataset is prepared for machine learning models, I first built a linear regression as the baseline model. Next, I built a sequence of models with the same cross validation and evaluation metric inluding lass & ridge regression, decision tree and random forest. Then I applied both random search and grid search to fine tune hyperparameters and came up with the best model. Random Forest also provides us feature importance which shows that total areas, areas above the ground, overall quality, garage areas being the top factoring determing the sale price. \n",
    "Lastyly, I built a stacking model to further improve the performance. In terms of the results, it decreases the RMSE by 80% compared to the baseline model. "
   ]
  },
  {
   "cell_type": "code",
   "execution_count": null,
   "metadata": {},
   "outputs": [],
   "source": []
  }
 ],
 "metadata": {
  "kernelspec": {
   "display_name": "Python 3",
   "language": "python",
   "name": "python3"
  },
  "language_info": {
   "codemirror_mode": {
    "name": "ipython",
    "version": 3
   },
   "file_extension": ".py",
   "mimetype": "text/x-python",
   "name": "python",
   "nbconvert_exporter": "python",
   "pygments_lexer": "ipython3",
   "version": "3.7.5"
  }
 },
 "nbformat": 4,
 "nbformat_minor": 2
}
